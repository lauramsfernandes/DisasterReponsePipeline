{
 "metadata": {
  "language_info": {
   "codemirror_mode": {
    "name": "ipython",
    "version": 3
   },
   "file_extension": ".py",
   "mimetype": "text/x-python",
   "name": "python",
   "nbconvert_exporter": "python",
   "pygments_lexer": "ipython3",
   "version": "3.8.2-final"
  },
  "orig_nbformat": 2,
  "kernelspec": {
   "name": "python_defaultSpec_1600693695253",
   "display_name": "Python 3.8.2 64-bit"
  }
 },
 "nbformat": 4,
 "nbformat_minor": 2,
 "cells": [
  {
   "cell_type": "code",
   "execution_count": 2,
   "metadata": {},
   "outputs": [],
   "source": [
    "import pandas as pd \n",
    "import numpy as np \n",
    "import matplotlib as plt \n",
    "import sqlite3"
   ]
  },
  {
   "source": [
    "# Pipeline\n",
    "\n",
    "Data pipeline is a generic term for transfering data from one or more sources to a destination.\n",
    "\n",
    "## ETL\n",
    "\n",
    "A ETL pipeline is a procedure that `extract` data from a source or multiple sources, `transform` the data according with the project specifications and `load` the data to its destination. \n",
    "\n",
    "> Extract data -> Tansform data -> Load data into database -> Create an ETL pipeline\n",
    "\n",
    "## ELT \n",
    "\n",
    "A ELT pipeline differs from ETL in order of processes. In ELT the load are done previously than transformation.\n",
    "\n",
    "\n"
   ],
   "cell_type": "markdown",
   "metadata": {}
  },
  {
   "source": [
    "### Extracting data"
   ],
   "cell_type": "markdown",
   "metadata": {}
  },
  {
   "cell_type": "code",
   "execution_count": 62,
   "metadata": {},
   "outputs": [],
   "source": [
    "# Extracting corporate messaging data as dataframe\n",
    "df = pd.read_csv(r'data\\corporate_messaging.csv')"
   ]
  },
  {
   "source": [
    "### Wrangling"
   ],
   "cell_type": "markdown",
   "metadata": {}
  },
  {
   "cell_type": "code",
   "execution_count": 75,
   "metadata": {},
   "outputs": [
    {
     "output_type": "execute_result",
     "data": {
      "text/plain": "    _unit_id  _golden _unit_state  _trusted_judgments _last_judgment_at  \\\n0  662822308    False   finalized                   3      2/18/15 4:31   \n1  662822309    False   finalized                   3     2/18/15 13:55   \n\n      category  category:confidence category_gold            id screenname  \\\n0  Information                  1.0           NaN  4.365280e+17   Barclays   \n1  Information                  1.0           NaN  3.860130e+17   Barclays   \n\n                                                text  \n0  Barclays CEO stresses the importance of regula...  \n1  Barclays announces result of Rights Issue http...  ",
      "text/html": "<div>\n<style scoped>\n    .dataframe tbody tr th:only-of-type {\n        vertical-align: middle;\n    }\n\n    .dataframe tbody tr th {\n        vertical-align: top;\n    }\n\n    .dataframe thead th {\n        text-align: right;\n    }\n</style>\n<table border=\"1\" class=\"dataframe\">\n  <thead>\n    <tr style=\"text-align: right;\">\n      <th></th>\n      <th>_unit_id</th>\n      <th>_golden</th>\n      <th>_unit_state</th>\n      <th>_trusted_judgments</th>\n      <th>_last_judgment_at</th>\n      <th>category</th>\n      <th>category:confidence</th>\n      <th>category_gold</th>\n      <th>id</th>\n      <th>screenname</th>\n      <th>text</th>\n    </tr>\n  </thead>\n  <tbody>\n    <tr>\n      <th>0</th>\n      <td>662822308</td>\n      <td>False</td>\n      <td>finalized</td>\n      <td>3</td>\n      <td>2/18/15 4:31</td>\n      <td>Information</td>\n      <td>1.0</td>\n      <td>NaN</td>\n      <td>4.365280e+17</td>\n      <td>Barclays</td>\n      <td>Barclays CEO stresses the importance of regula...</td>\n    </tr>\n    <tr>\n      <th>1</th>\n      <td>662822309</td>\n      <td>False</td>\n      <td>finalized</td>\n      <td>3</td>\n      <td>2/18/15 13:55</td>\n      <td>Information</td>\n      <td>1.0</td>\n      <td>NaN</td>\n      <td>3.860130e+17</td>\n      <td>Barclays</td>\n      <td>Barclays announces result of Rights Issue http...</td>\n    </tr>\n  </tbody>\n</table>\n</div>"
     },
     "metadata": {},
     "execution_count": 75
    }
   ],
   "source": [
    "# Checking df\n",
    "df.head(2)"
   ]
  },
  {
   "cell_type": "code",
   "execution_count": 74,
   "metadata": {
    "tags": []
   },
   "outputs": [
    {
     "output_type": "stream",
     "name": "stdout",
     "text": "df has 3118 rows and 11 columns\n"
    }
   ],
   "source": [
    "# Checling initial shape\n",
    "rows, columns = df.shape\n",
    "print('df has {} rows and {} columns'.format(rows, columns))"
   ]
  },
  {
   "cell_type": "code",
   "execution_count": 70,
   "metadata": {},
   "outputs": [
    {
     "output_type": "execute_result",
     "data": {
      "text/plain": "_unit_id                  0\n_golden                   0\n_unit_state               0\n_trusted_judgments        0\n_last_judgment_at       307\ncategory                  0\ncategory:confidence       0\ncategory_gold          2811\nid                        0\nscreenname                0\ntext                      0\ndtype: int64"
     },
     "metadata": {},
     "execution_count": 70
    }
   ],
   "source": [
    "# Checking nulls\n",
    "df.isnull().sum()"
   ]
  },
  {
   "cell_type": "code",
   "execution_count": 56,
   "metadata": {},
   "outputs": [
    {
     "output_type": "execute_result",
     "data": {
      "text/plain": "Index(['_unit_id', '_golden', '_unit_state', '_trusted_judgments',\n       '_last_judgment_at', 'category', 'category:confidence', 'category_gold',\n       'id', 'screenname', 'text'],\n      dtype='object')"
     },
     "metadata": {},
     "execution_count": 56
    }
   ],
   "source": [
    "# Checking columns\n",
    "df.columns"
   ]
  },
  {
   "cell_type": "code",
   "execution_count": 57,
   "metadata": {},
   "outputs": [
    {
     "output_type": "execute_result",
     "data": {
      "text/plain": "0       Barclays CEO stresses the importance of regula...\n1       Barclays announces result of Rights Issue http...\n2       Barclays publishes its prospectus for its å£5....\n3       Barclays Group Finance Director Chris Lucas is...\n4       Barclays announces that Irene McDermott Brown ...\n                              ...                        \n3113    Wishing you a happy and healthy Thanksgiving. ...\n3114    WouldnÌ¢‰âÂ‰ã¢t it be great if your oven recog...\n3115    Yesterday, these #HealthyKids lit up Broadway ...\n3116    Yo-Jelly, Danone new brand in South Africa : t...\n3117    Z Bhutta: Problems with food&amp;land systems ...\nName: text, Length: 3118, dtype: object"
     },
     "metadata": {},
     "execution_count": 57
    }
   ],
   "source": [
    "# Checking text columns values\n",
    "df.loc[:,'text']"
   ]
  },
  {
   "cell_type": "code",
   "execution_count": 58,
   "metadata": {},
   "outputs": [
    {
     "output_type": "execute_result",
     "data": {
      "text/plain": "1.0000    2430\n0.6614      35\n0.6643      33\n0.6747      32\n0.6775      29\n          ... \n0.8547       1\n0.6641       1\n0.8578       1\n0.9089       1\n0.8245       1\nName: category:confidence, Length: 194, dtype: int64"
     },
     "metadata": {},
     "execution_count": 58
    }
   ],
   "source": [
    "# Checking category confidence values\n",
    "df.loc[:,'category:confidence'].value_counts()"
   ]
  },
  {
   "cell_type": "code",
   "execution_count": 61,
   "metadata": {},
   "outputs": [
    {
     "output_type": "execute_result",
     "data": {
      "text/plain": "Information    2129\nAction          724\nDialogue        226\nExclude          39\nName: category, dtype: int64"
     },
     "metadata": {},
     "execution_count": 61
    }
   ],
   "source": [
    "# Checking categories\n",
    "df.loc[:,'category'].value_counts()"
   ]
  },
  {
   "cell_type": "code",
   "execution_count": 79,
   "metadata": {},
   "outputs": [],
   "source": [
    "# Selecting only with messages that have confidence equal to 1 and the category is different from 'Exclude'\n",
    "df = df[(df.loc[:,'category:confidence']==1) & (df.loc[:,'category'] != 'Exclude')]"
   ]
  },
  {
   "cell_type": "code",
   "execution_count": 80,
   "metadata": {
    "tags": []
   },
   "outputs": [
    {
     "output_type": "stream",
     "name": "stdout",
     "text": "df now has 2403 rows and 11 columns\n"
    }
   ],
   "source": [
    "# Checking new shape\n",
    "rows, columns = df.shape\n",
    "print('df now has {} rows and {} columns'.format(rows, columns))"
   ]
  },
  {
   "cell_type": "code",
   "execution_count": 81,
   "metadata": {},
   "outputs": [],
   "source": [
    "# Spliting data for test\n",
    "X = df.text.values\n",
    "y = df.category.values"
   ]
  },
  {
   "cell_type": "code",
   "execution_count": 86,
   "metadata": {
    "tags": []
   },
   "outputs": [
    {
     "output_type": "error",
     "ename": "SyntaxError",
     "evalue": "unexpected EOF while parsing (<ipython-input-86-68975d878ba8>, line 3)",
     "traceback": [
      "\u001b[1;36m  File \u001b[1;32m\"<ipython-input-86-68975d878ba8>\"\u001b[1;36m, line \u001b[1;32m3\u001b[0m\n\u001b[1;33m    \u001b[0m\n\u001b[1;37m    ^\u001b[0m\n\u001b[1;31mSyntaxError\u001b[0m\u001b[1;31m:\u001b[0m unexpected EOF while parsing\n"
     ]
    }
   ],
   "source": [
    "# Dectect url using regex\n",
    "url = 'http[s]?://(?:[a-zA-Z]|[0-9]|[$-_@.&+]|[!*\\(\\),]|(?:%[0-9a-fA-F][0-9a-fA-F]))+'\n",
    "\n",
    "# Tokenization\n",
    "def tokenize(text):\n",
    "    \"\"\" \n",
    "    DESCRIPTION\n",
    "    1. Dectect all urls in each message, replace all of them for a string.\n",
    "    2. Tokenize: delimit all words in each message.capitalize.\n",
    "    3. Lemmatize: group together the inflected forms of a word, so they can be analysed as a            single item, identified by the word's lemma.\n",
    "\n",
    "    INPUT\n",
    "    text (string): a list of disaster messages\n",
    "\n",
    "    OUTPUT\n",
    "    clean_tokens (string): a tokenized list from input \n",
    "    \"\"\"\n",
    "\n",
    "\n"
   ]
  },
  {
   "cell_type": "code",
   "execution_count": null,
   "metadata": {},
   "outputs": [],
   "source": []
  }
 ]
}