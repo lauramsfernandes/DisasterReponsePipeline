{
 "metadata": {
  "language_info": {
   "codemirror_mode": {
    "name": "ipython",
    "version": 3
   },
   "file_extension": ".py",
   "mimetype": "text/x-python",
   "name": "python",
   "nbconvert_exporter": "python",
   "pygments_lexer": "ipython3",
   "version": "3.8.2-final"
  },
  "orig_nbformat": 2,
  "kernelspec": {
   "name": "python_defaultSpec_1600693695253",
   "display_name": "Python 3.8.2 64-bit"
  }
 },
 "nbformat": 4,
 "nbformat_minor": 2,
 "cells": [
  {
   "cell_type": "code",
   "execution_count": 2,
   "metadata": {},
   "outputs": [],
   "source": [
    "import pandas as pd \n",
    "import numpy as np \n",
    "import matplotlib as plt \n",
    "import sqlite3"
   ]
  },
  {
   "source": [
    "# Pipeline\n",
    "\n",
    "Data pipeline is a generic term for transfering data from one or more sources to a destination.\n",
    "\n",
    "## ETL\n",
    "\n",
    "A ETL pipeline is a procedure that `extract` data from a source or multiple sources, `transform` the data according with the project specifications and `load` the data to its destination. \n",
    "\n",
    "> Extract data -> Tansform data -> Load data into database -> Create an ETL pipeline\n",
    "\n",
    "## ELT \n",
    "\n",
    "A ELT pipeline differs from ETL in order of processes. In ELT the load are done previously than transformation.\n",
    "\n",
    "\n"
   ],
   "cell_type": "markdown",
   "metadata": {}
  },
  {
   "source": [
    "### Extracting data"
   ],
   "cell_type": "markdown",
   "metadata": {}
  },
  {
   "cell_type": "code",
   "execution_count": 3,
   "metadata": {},
   "outputs": [],
   "source": [
    "# Extracting projects data as dataframe\n",
    "projects = pd.read_csv(r'data\\api.csv')"
   ]
  },
  {
   "cell_type": "code",
   "execution_count": 4,
   "metadata": {},
   "outputs": [],
   "source": [
    "# Extracting GDP data as dataframe\n",
    "gdp = pd.read_csv(r'data\\API_NY.GDP.MKTP.CD_DS2_en_csv_v2_1345540.csv', skiprows=[0,1,2,3])"
   ]
  },
  {
   "cell_type": "code",
   "execution_count": 11,
   "metadata": {},
   "outputs": [],
   "source": [
    "# Extracting population data as dataframe\n",
    "population = pd.read_csv(r'data\\API_SP.POP.TOTL_DS2_en_csv_v2_1345178.csv', skiprows=[0,1,2,3])"
   ]
  }
 ]
}